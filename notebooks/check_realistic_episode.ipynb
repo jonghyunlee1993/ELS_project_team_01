{
 "cells": [
  {
   "cell_type": "code",
   "execution_count": 1,
   "id": "8c46dfa6",
   "metadata": {},
   "outputs": [],
   "source": [
    "import numpy as np\n",
    "import pandas as pd\n",
    "\n",
    "df = pd.read_excel(\"../data/underlying_assets.xlsx\", engine=\"openpyxl\")\n",
    "\n",
    "starting_date = \"2017/06/30\"\n",
    "checking_date = np.array([\"2017/12/21\", \"2018/06/26\", \"2018/12/20\", \"2019/06/25\", \"2019/12/19\", \"2020/06/25\"])\n",
    "strike_price = np.array([0.87, 0.87, 0.87, 0.85, 0.85, 0.85])\n",
    "knock_in_barrier = np.array([0.55])"
   ]
  },
  {
   "cell_type": "code",
   "execution_count": 2,
   "id": "55cfbfea",
   "metadata": {},
   "outputs": [],
   "source": [
    "first_star_raw = df[df.Name == \"삼성전자\"].set_index(\"Date\").loc[:, \"Close\"]\n",
    "second_star_raw = df[df.Name == \"현대차\"].set_index(\"Date\").loc[:, \"Close\"]\n",
    "\n",
    "first_star_s0 = first_star_raw[starting_date]\n",
    "second_star_s0 = second_star_raw[starting_date]\n",
    "s0 = np.array([first_star_s0, second_star_s0])\n",
    "\n",
    "first_star_at_checking_date = first_star_raw[checking_date].values\n",
    "second_star_at_checking_date = second_star_raw[checking_date].values\n",
    "episode_at_checking_date = np.vstack([first_star_at_checking_date, second_star_at_checking_date])"
   ]
  },
  {
   "cell_type": "code",
   "execution_count": 3,
   "id": "312b26d0",
   "metadata": {},
   "outputs": [
    {
     "name": "stdout",
     "output_type": "stream",
     "text": [
      "Sucess event: [1 0 0 0 0 0 0]\n",
      "Failure event: [0]\n"
     ]
    }
   ],
   "source": [
    "success_event = np.array([0, 0, 0, 0, 0, 0, 0])\n",
    "failure_event = np.array([0])\n",
    "\n",
    "performance = np.divide(episode_at_checking_date, np.repeat(np.array([first_star_s0, second_star_s0]), len(strike_price)).reshape(2, -1))\n",
    "worst_performance = np.min(performance, axis=0)\n",
    "worst_performance_index = np.where(performance == worst_performance)[0]\n",
    "\n",
    "for i in range(len(strike_price)):\n",
    "    if worst_performance[i] >= strike_price[i]:\n",
    "        success_event[i] += 1\n",
    "        is_payoff = True\n",
    "        break\n",
    "\n",
    "if worst_performance[i] > knock_in_barrier and is_payoff == False:\n",
    "    success_event[-1] += 1\n",
    "elif worst_performance[i] <= knock_in_barrier and is_payoff == False:\n",
    "    failure_event += 1\n",
    "    \n",
    "print(f\"Sucess event: {success_event}\")\n",
    "print(f\"Failure event: {failure_event}\")\n",
    "    "
   ]
  },
  {
   "cell_type": "code",
   "execution_count": null,
   "id": "32bc57a9",
   "metadata": {},
   "outputs": [],
   "source": []
  }
 ],
 "metadata": {
  "kernelspec": {
   "display_name": "Python 3 (ipykernel)",
   "language": "python",
   "name": "python3"
  },
  "language_info": {
   "codemirror_mode": {
    "name": "ipython",
    "version": 3
   },
   "file_extension": ".py",
   "mimetype": "text/x-python",
   "name": "python",
   "nbconvert_exporter": "python",
   "pygments_lexer": "ipython3",
   "version": "3.9.6"
  }
 },
 "nbformat": 4,
 "nbformat_minor": 5
}
