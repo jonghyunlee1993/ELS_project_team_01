{
 "cells": [
  {
   "cell_type": "code",
   "execution_count": 1,
   "id": "000acbd1",
   "metadata": {},
   "outputs": [],
   "source": [
    "import math\n",
    "import numpy as np\n",
    "import pandas as pd\n",
    "from scipy.stats import norm\n",
    "\n",
    "df = pd.read_excel(\"../data/underlying_assets.xlsx\", engine=\"openpyxl\")\n",
    "\n",
    "starting_date = \"2017/06/30\"\n",
    "checking_date = np.array([\"2017/12/21\", \"2018/06/26\", \"2018/12/20\", \"2019/06/25\", \"2019/12/19\", \"2020/06/25\"])\n",
    "strike_price = np.array([0.87, 0.87, 0.87, 0.85, 0.85, 0.85])\n",
    "\n",
    "first_star_raw = df[df.Name == \"삼성전자\"].set_index(\"Date\").loc[:, \"Close\"]\n",
    "second_star_raw = df[df.Name == \"현대차\"].set_index(\"Date\").loc[:, \"Close\"]\n",
    "\n",
    "first_star_s0 = first_star_raw[starting_date]\n",
    "second_star_s0 = second_star_raw[starting_date]"
   ]
  },
  {
   "cell_type": "code",
   "execution_count": 137,
   "id": "266d17b5",
   "metadata": {},
   "outputs": [
    {
     "data": {
      "text/plain": [
       "47540"
      ]
     },
     "execution_count": 137,
     "metadata": {},
     "output_type": "execute_result"
    }
   ],
   "source": [
    "first_star_raw[\"2017-06-30\"]"
   ]
  },
  {
   "cell_type": "code",
   "execution_count": 73,
   "id": "bc848048",
   "metadata": {},
   "outputs": [
    {
     "name": "stderr",
     "output_type": "stream",
     "text": [
      "/Users/jonghyun/miniforge3/lib/python3.9/site-packages/pandas/core/indexing.py:1667: SettingWithCopyWarning: \n",
      "A value is trying to be set on a copy of a slice from a DataFrame.\n",
      "Try using .loc[row_indexer,col_indexer] = value instead\n",
      "\n",
      "See the caveats in the documentation: https://pandas.pydata.org/pandas-docs/stable/user_guide/indexing.html#returning-a-view-versus-a-copy\n",
      "  self.obj[key] = value\n",
      "/var/folders/nw/x1lqw0rx1mj698bqcgqxhk880000gn/T/ipykernel_24791/6985285.py:3: FutureWarning: Series.dt.weekofyear and Series.dt.week have been deprecated.  Please use Series.dt.isocalendar().week instead.\n",
      "  data.loc[:, 'week_num'] = data['Date'].dt.week\n"
     ]
    }
   ],
   "source": [
    "def get_rebalancing_data(data):\n",
    "    data.loc[:, 'year'] = data['Date'].dt.year\n",
    "    data.loc[:, 'week_num'] = data['Date'].dt.week\n",
    "    data.loc[:, 'dayofweek'] = data['Date'].dt.dayofweek\n",
    "\n",
    "    data = data.loc[data.groupby(['year', 'week_num'])['dayofweek'].idxmin()].sort_values(by=\"Date\").reset_index(drop=True)\n",
    "    \n",
    "    return data\n",
    "\n",
    "first_star_rebalancing_data = get_rebalancing_data(df[df.Name == \"삼성전자\"])\n",
    "second_star_rebalancing_data = get_rebalancing_data(df[df.Name == \"현대차\"])"
   ]
  },
  {
   "cell_type": "code",
   "execution_count": 150,
   "id": "3c1ec18b",
   "metadata": {},
   "outputs": [
    {
     "name": "stdout",
     "output_type": "stream",
     "text": [
      "0.054173752978308974\n"
     ]
    }
   ],
   "source": [
    "s0 = 49\n",
    "k = 50\n",
    "r = 0.05\n",
    "mu = 0.13\n",
    "sigma = 0.2\n",
    "t = 0.3846\n",
    "\n",
    "d1 = (math.log(s0 / k) + (r + math.pow(sigma, 2) / 2) * t) / (sigma * math.sqrt(t))\n",
    "print(d1)\n",
    "delta = norm.cdf(d1)\n",
    "\n"
   ]
  },
  {
   "cell_type": "code",
   "execution_count": 142,
   "id": "c7a2b05c",
   "metadata": {},
   "outputs": [],
   "source": [
    "def compute_parameters(data):\n",
    "    mu = data.pct_change().mean() * math.sqrt(252)\n",
    "    sigma = data.pct_change().std() * math.sqrt(252)\n",
    "    \n",
    "    return mu, sigma\n",
    "\n",
    "\n",
    "def compute_delta(s0, k, r, t, mu, sigma):\n",
    "    d1 = (math.log(s0 / k) + (r + math.pow(sigma, 2) / 2) * t) / (sigma * math.sqrt(t))\n",
    "    delta = norm.cdf(d1) - 1\n",
    "    \n",
    "    return delta\n",
    "\n",
    "\n",
    "def change_shares(old_amount, delta, price, face_amount=1000):\n",
    "    new_amount = delta * face_amount\n",
    "    change = round(new_amount - old_amount)\n",
    "    \n",
    "    cost = change * price\n",
    "    \n",
    "    return new_amount, cost"
   ]
  },
  {
   "cell_type": "code",
   "execution_count": 157,
   "id": "7c3017d8",
   "metadata": {},
   "outputs": [
    {
     "data": {
      "text/plain": [
       "(-0.00231279056756994, 0.31781953369010324)"
      ]
     },
     "execution_count": 157,
     "metadata": {},
     "output_type": "execute_result"
    }
   ],
   "source": [
    "compute_parameters(second_star_raw)"
   ]
  },
  {
   "cell_type": "code",
   "execution_count": null,
   "id": "3d9d7d65",
   "metadata": {},
   "outputs": [],
   "source": []
  }
 ],
 "metadata": {
  "kernelspec": {
   "display_name": "Python 3 (ipykernel)",
   "language": "python",
   "name": "python3"
  },
  "language_info": {
   "codemirror_mode": {
    "name": "ipython",
    "version": 3
   },
   "file_extension": ".py",
   "mimetype": "text/x-python",
   "name": "python",
   "nbconvert_exporter": "python",
   "pygments_lexer": "ipython3",
   "version": "3.9.6"
  }
 },
 "nbformat": 4,
 "nbformat_minor": 5
}
