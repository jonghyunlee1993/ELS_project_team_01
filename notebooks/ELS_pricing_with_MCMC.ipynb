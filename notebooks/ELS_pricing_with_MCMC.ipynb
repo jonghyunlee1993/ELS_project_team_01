{
 "cells": [
  {
   "cell_type": "code",
   "execution_count": 15,
   "id": "2d11c0d4",
   "metadata": {},
   "outputs": [
    {
     "data": {
      "text/html": [
       "<div>\n",
       "<style scoped>\n",
       "    .dataframe tbody tr th:only-of-type {\n",
       "        vertical-align: middle;\n",
       "    }\n",
       "\n",
       "    .dataframe tbody tr th {\n",
       "        vertical-align: top;\n",
       "    }\n",
       "\n",
       "    .dataframe thead th {\n",
       "        text-align: right;\n",
       "    }\n",
       "</style>\n",
       "<table border=\"1\" class=\"dataframe\">\n",
       "  <thead>\n",
       "    <tr style=\"text-align: right;\">\n",
       "      <th></th>\n",
       "      <th>Name</th>\n",
       "      <th>Date</th>\n",
       "      <th>Close</th>\n",
       "    </tr>\n",
       "  </thead>\n",
       "  <tbody>\n",
       "    <tr>\n",
       "      <th>0</th>\n",
       "      <td>삼성전자</td>\n",
       "      <td>2016-06-01</td>\n",
       "      <td>26660</td>\n",
       "    </tr>\n",
       "    <tr>\n",
       "      <th>1</th>\n",
       "      <td>삼성전자</td>\n",
       "      <td>2016-06-02</td>\n",
       "      <td>27300</td>\n",
       "    </tr>\n",
       "    <tr>\n",
       "      <th>2</th>\n",
       "      <td>삼성전자</td>\n",
       "      <td>2016-06-03</td>\n",
       "      <td>27540</td>\n",
       "    </tr>\n",
       "    <tr>\n",
       "      <th>3</th>\n",
       "      <td>삼성전자</td>\n",
       "      <td>2016-06-07</td>\n",
       "      <td>27960</td>\n",
       "    </tr>\n",
       "    <tr>\n",
       "      <th>4</th>\n",
       "      <td>삼성전자</td>\n",
       "      <td>2016-06-08</td>\n",
       "      <td>28120</td>\n",
       "    </tr>\n",
       "  </tbody>\n",
       "</table>\n",
       "</div>"
      ],
      "text/plain": [
       "   Name       Date  Close\n",
       "0  삼성전자 2016-06-01  26660\n",
       "1  삼성전자 2016-06-02  27300\n",
       "2  삼성전자 2016-06-03  27540\n",
       "3  삼성전자 2016-06-07  27960\n",
       "4  삼성전자 2016-06-08  28120"
      ]
     },
     "execution_count": 15,
     "metadata": {},
     "output_type": "execute_result"
    }
   ],
   "source": [
    "import numpy as np\n",
    "import pandas as pd\n",
    "import matplotlib.pyplot as plt\n",
    "\n",
    "df = pd.read_excel(\"../data/underlying_assets.xlsx\", engine=\"openpyxl\")\n",
    "df.head()"
   ]
  },
  {
   "cell_type": "code",
   "execution_count": 16,
   "id": "40f86ff2",
   "metadata": {},
   "outputs": [
    {
     "data": {
      "text/plain": [
       "<AxesSubplot:title={'center':'Histogram of the profit rate'}>"
      ]
     },
     "execution_count": 16,
     "metadata": {},
     "output_type": "execute_result"
    },
    {
     "data": {
      "image/png": "[encoded data removed]",
      "text/plain": [
       "<Figure size 432x288 with 1 Axes>"
      ]
     },
     "metadata": {
      "needs_background": "light"
     },
     "output_type": "display_data"
    }
   ],
   "source": [
    "samsung = df[df.Name == \"삼성전자\"].set_index(\"Date\").loc[:, \"Close\"].pct_change() * 100\n",
    "hyundai = df[df.Name == \"현대차\"].set_index(\"Date\").loc[:, \"Close\"].pct_change() * 100\n",
    "\n",
    "plt.title(\"Histogram of the profit rate\")\n",
    "samsung.hist(bins=20)\n",
    "hyundai.hist(bins=20)"
   ]
  },
  {
   "cell_type": "code",
   "execution_count": 20,
   "id": "f438b159",
   "metadata": {
    "scrolled": true
   },
   "outputs": [
    {
     "name": "stdout",
     "output_type": "stream",
     "text": [
      "vol of samsung: 0.2407045118308084\n",
      "vol of hyundai: 0.07346699863390292\n",
      "correlation of vol: -0.013606477981877065\n"
     ]
    }
   ],
   "source": [
    "s_ewma_vol = samsung[:\"2017-06-29\"].ewm(com=0.94).mean().mean()\n",
    "h_ewma_vol = hyundai[:\"2017-06-29\"].ewm(com=0.94).mean().mean()\n",
    "vol_corr = np.corrcoef(samsung[:\"2017-06-29\"].ewm(com=0.94).mean()[1:], hyundai[:\"2017-06-29\"].ewm(com=0.94).mean()[1:])[0, 1]\n",
    "\n",
    "print(f\"vol of samsung: {s_ewma_vol}\\nvol of hyundai: {h_ewma_vol}\\ncorrelation of vol: {vol_corr}\")"
   ]
  },
  {
   "cell_type": "code",
   "execution_count": null,
   "id": "fc905847",
   "metadata": {},
   "outputs": [],
   "source": []
  }
 ],
 "metadata": {
  "kernelspec": {
   "display_name": "Python 3 (ipykernel)",
   "language": "python",
   "name": "python3"
  },
  "language_info": {
   "codemirror_mode": {
    "name": "ipython",
    "version": 3
   },
   "file_extension": ".py",
   "mimetype": "text/x-python",
   "name": "python",
   "nbconvert_exporter": "python",
   "pygments_lexer": "ipython3",
   "version": "3.9.6"
  }
 },
 "nbformat": 4,
 "nbformat_minor": 5
}
