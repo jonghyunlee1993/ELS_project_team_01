{
 "cells": [
  {
   "cell_type": "code",
   "execution_count": 5,
   "id": "fe6832e7",
   "metadata": {},
   "outputs": [
    {
     "data": {
      "text/html": [
       "<div>\n",
       "<style scoped>\n",
       "    .dataframe tbody tr th:only-of-type {\n",
       "        vertical-align: middle;\n",
       "    }\n",
       "\n",
       "    .dataframe tbody tr th {\n",
       "        vertical-align: top;\n",
       "    }\n",
       "\n",
       "    .dataframe thead th {\n",
       "        text-align: right;\n",
       "    }\n",
       "</style>\n",
       "<table border=\"1\" class=\"dataframe\">\n",
       "  <thead>\n",
       "    <tr style=\"text-align: right;\">\n",
       "      <th></th>\n",
       "      <th>Symbol</th>\n",
       "      <th>Market</th>\n",
       "      <th>Name</th>\n",
       "      <th>Sector</th>\n",
       "      <th>Industry</th>\n",
       "      <th>ListingDate</th>\n",
       "      <th>SettleMonth</th>\n",
       "      <th>Representative</th>\n",
       "      <th>HomePage</th>\n",
       "      <th>Region</th>\n",
       "    </tr>\n",
       "  </thead>\n",
       "  <tbody>\n",
       "    <tr>\n",
       "      <th>3609</th>\n",
       "      <td>005930</td>\n",
       "      <td>KOSPI</td>\n",
       "      <td>삼성전자</td>\n",
       "      <td>통신 및 방송 장비 제조업</td>\n",
       "      <td>IMT2000 서비스용 동기식 기지국,교환국장비,데이터단말기,동영상휴대폰,핵심칩,반...</td>\n",
       "      <td>1975-06-11</td>\n",
       "      <td>12월</td>\n",
       "      <td>김기남, 김현석, 고동진</td>\n",
       "      <td>http://www.sec.co.kr</td>\n",
       "      <td>경기도</td>\n",
       "    </tr>\n",
       "    <tr>\n",
       "      <th>6307</th>\n",
       "      <td>005380</td>\n",
       "      <td>KOSPI</td>\n",
       "      <td>현대차</td>\n",
       "      <td>자동차용 엔진 및 자동차 제조업</td>\n",
       "      <td>자동차(승용차,버스,트럭,특장차),자동차부품,자동차전착도료 제조,차량정비사업</td>\n",
       "      <td>1974-06-28</td>\n",
       "      <td>12월</td>\n",
       "      <td>정의선, 하언태, 장재훈(각자 대표이사)</td>\n",
       "      <td>http://www.hyundai.com</td>\n",
       "      <td>서울특별시</td>\n",
       "    </tr>\n",
       "  </tbody>\n",
       "</table>\n",
       "</div>"
      ],
      "text/plain": [
       "      Symbol Market  Name             Sector  \\\n",
       "3609  005930  KOSPI  삼성전자     통신 및 방송 장비 제조업   \n",
       "6307  005380  KOSPI   현대차  자동차용 엔진 및 자동차 제조업   \n",
       "\n",
       "                                               Industry ListingDate  \\\n",
       "3609  IMT2000 서비스용 동기식 기지국,교환국장비,데이터단말기,동영상휴대폰,핵심칩,반...  1975-06-11   \n",
       "6307         자동차(승용차,버스,트럭,특장차),자동차부품,자동차전착도료 제조,차량정비사업  1974-06-28   \n",
       "\n",
       "     SettleMonth          Representative                HomePage Region  \n",
       "3609         12월           김기남, 김현석, 고동진    http://www.sec.co.kr    경기도  \n",
       "6307         12월  정의선, 하언태, 장재훈(각자 대표이사)  http://www.hyundai.com  서울특별시  "
      ]
     },
     "execution_count": 5,
     "metadata": {},
     "output_type": "execute_result"
    }
   ],
   "source": [
    "import pandas as pd\n",
    "from tqdm import tqdm\n",
    "from copy import deepcopy\n",
    "import FinanceDataReader as fdr\n",
    "\n",
    "df = fdr.StockListing('KOSPI')\n",
    "df_filtered = df[df[\"Symbol\"].isin([\"005930\", \"005380\"])]\n",
    "df_filtered"
   ]
  },
  {
   "cell_type": "code",
   "execution_count": 6,
   "id": "812fb707",
   "metadata": {},
   "outputs": [
    {
     "name": "stderr",
     "output_type": "stream",
     "text": [
      "100%|█████████████████████████████████████████████| 2/2 [00:00<00:00,  2.23it/s]\n"
     ]
    }
   ],
   "source": [
    "for i, line in enumerate(tqdm(df_filtered.iterrows(), total=df_filtered.shape[0])):  \n",
    "    line = line[-1]\n",
    "    try:\n",
    "        single_firm = fdr.DataReader(line.Symbol, '2016-06-01', '2020-06-30')\n",
    "        single_firm.loc[:, \"Name\"] = line.Name\n",
    "        single_firm = single_firm.reset_index().set_index([\"Name\", \"Date\"])\n",
    "\n",
    "        if i == 0:    \n",
    "            res_df = deepcopy(single_firm)\n",
    "        else:\n",
    "            res_df = res_df.append(single_firm)\n",
    "    except:\n",
    "        pass"
   ]
  },
  {
   "cell_type": "code",
   "execution_count": 10,
   "id": "787cfe7d",
   "metadata": {},
   "outputs": [
    {
     "data": {
      "text/html": [
       "<div>\n",
       "<style scoped>\n",
       "    .dataframe tbody tr th:only-of-type {\n",
       "        vertical-align: middle;\n",
       "    }\n",
       "\n",
       "    .dataframe tbody tr th {\n",
       "        vertical-align: top;\n",
       "    }\n",
       "\n",
       "    .dataframe thead th {\n",
       "        text-align: right;\n",
       "    }\n",
       "</style>\n",
       "<table border=\"1\" class=\"dataframe\">\n",
       "  <thead>\n",
       "    <tr style=\"text-align: right;\">\n",
       "      <th></th>\n",
       "      <th>Name</th>\n",
       "      <th>Date</th>\n",
       "      <th>Close</th>\n",
       "    </tr>\n",
       "  </thead>\n",
       "  <tbody>\n",
       "    <tr>\n",
       "      <th>0</th>\n",
       "      <td>삼성전자</td>\n",
       "      <td>2016-06-01</td>\n",
       "      <td>26660</td>\n",
       "    </tr>\n",
       "    <tr>\n",
       "      <th>1</th>\n",
       "      <td>삼성전자</td>\n",
       "      <td>2016-06-02</td>\n",
       "      <td>27300</td>\n",
       "    </tr>\n",
       "    <tr>\n",
       "      <th>2</th>\n",
       "      <td>삼성전자</td>\n",
       "      <td>2016-06-03</td>\n",
       "      <td>27540</td>\n",
       "    </tr>\n",
       "    <tr>\n",
       "      <th>3</th>\n",
       "      <td>삼성전자</td>\n",
       "      <td>2016-06-07</td>\n",
       "      <td>27960</td>\n",
       "    </tr>\n",
       "    <tr>\n",
       "      <th>4</th>\n",
       "      <td>삼성전자</td>\n",
       "      <td>2016-06-08</td>\n",
       "      <td>28120</td>\n",
       "    </tr>\n",
       "  </tbody>\n",
       "</table>\n",
       "</div>"
      ],
      "text/plain": [
       "   Name       Date  Close\n",
       "0  삼성전자 2016-06-01  26660\n",
       "1  삼성전자 2016-06-02  27300\n",
       "2  삼성전자 2016-06-03  27540\n",
       "3  삼성전자 2016-06-07  27960\n",
       "4  삼성전자 2016-06-08  28120"
      ]
     },
     "execution_count": 10,
     "metadata": {},
     "output_type": "execute_result"
    }
   ],
   "source": [
    "res_df = res_df.reset_index().loc[:, [\"Name\", \"Date\", \"Close\"]]\n",
    "res_df.head()"
   ]
  },
  {
   "cell_type": "code",
   "execution_count": 11,
   "id": "fc1c09e2",
   "metadata": {},
   "outputs": [],
   "source": [
    "res_df.to_excel(\"../data/underlying_assets.xlsx\", index=False)"
   ]
  },
  {
   "cell_type": "code",
   "execution_count": null,
   "id": "f1e75663",
   "metadata": {},
   "outputs": [],
   "source": []
  }
 ],
 "metadata": {
  "kernelspec": {
   "display_name": "Python 3 (ipykernel)",
   "language": "python",
   "name": "python3"
  },
  "language_info": {
   "codemirror_mode": {
    "name": "ipython",
    "version": 3
   },
   "file_extension": ".py",
   "mimetype": "text/x-python",
   "name": "python",
   "nbconvert_exporter": "python",
   "pygments_lexer": "ipython3",
   "version": "3.9.6"
  }
 },
 "nbformat": 4,
 "nbformat_minor": 5
}
